{
 "cells": [
  {
   "cell_type": "markdown",
   "metadata": {},
   "source": [
    "Creamos una clase AeroNave para ser heredada por Avion y Helicoptero"
   ]
  },
  {
   "cell_type": "code",
   "execution_count": 43,
   "metadata": {},
   "outputs": [],
   "source": [
    "class AeroNave :\n",
    "\n",
    "    def __init__(self, tipo:str) -> None:\n",
    "        self.tipo = tipo\n",
    "        self.estado = 'EN TIERRA'\n",
    "\n",
    "\n",
    "    def volar(self, altura)-> int:\n",
    "        if(altura <=50 ):\n",
    "            self.estado = 'VOLANDO BAJA ALTURA'\n",
    "            return altura\n",
    "        elif(altura >=50 ):\n",
    "            self.estado = 'VOLANDO MUY ALTO'\n",
    "            return altura\n",
    "\n"
   ]
  },
  {
   "cell_type": "code",
   "execution_count": 44,
   "metadata": {},
   "outputs": [],
   "source": [
    "class Avion(AeroNave):\n",
    "     def __init__(self, nombre:str) -> None:\n",
    "        super().__init__(nombre)\n",
    "\n",
    "     def volar(self, altura)-> str:\n",
    "        if(altura <= 200):\n",
    "            self.estado = 'VOLANDO BAJA ALTURA'\n",
    "            return f'La altura es {altura}'\n",
    "        elif(altura >= 200):\n",
    "            self.estado = 'VOLANDO MUY ALTO'\n",
    "            return f'La altura es {altura}'"
   ]
  },
  {
   "cell_type": "markdown",
   "metadata": {},
   "source": []
  },
  {
   "cell_type": "code",
   "execution_count": 45,
   "metadata": {},
   "outputs": [],
   "source": [
    "class Helicoptero(AeroNave):\n",
    "     def __init__(self, nombre:str) -> None:\n",
    "        super().__init__(nombre)\n",
    "\n",
    "     def volar(self, altura)-> int:\n",
    "        if(altura < 100):\n",
    "            self.estado = 'VOLANDO BAJA ALTURA'\n",
    "            return altura\n",
    "        elif(altura > 100):\n",
    "            self.estado = 'VOLANDO MUY ALTO'\n",
    "            return altura"
   ]
  },
  {
   "cell_type": "markdown",
   "metadata": {},
   "source": [
    "Ahora creamos una clase EspacioAereo "
   ]
  },
  {
   "cell_type": "code",
   "execution_count": 46,
   "metadata": {},
   "outputs": [],
   "source": [
    "class EspacioAereo :\n",
    "    def __init__(self, nave : AeroNave) -> None:\n",
    "       self.nave = nave\n",
    "    def nivelDeVueloAeronave(self, altura : int)-> int:\n",
    "        return self.nave.volar(altura)\n",
    "\n"
   ]
  },
  {
   "cell_type": "markdown",
   "metadata": {},
   "source": [
    "Luego Instanciamos la clase Avion, Helicoptero y Espacio para ver como la clase Avion no cumple con el principio de liskov , mientras que la clase Helicoptero si:\n"
   ]
  },
  {
   "cell_type": "code",
   "execution_count": 47,
   "metadata": {},
   "outputs": [
    {
     "name": "stdout",
     "output_type": "stream",
     "text": [
      "La altura es 200\n",
      "190\n"
     ]
    }
   ],
   "source": [
    "avion = Avion('Combate')\n",
    "helicoptero = Helicoptero('Combate')\n",
    "\n",
    "espacio_aereo_colombia = EspacioAereo(avion)\n",
    "espacio_aereo_venezuela = EspacioAereo(helicoptero)\n",
    "\n",
    "espacio_aereo_colombia.nivelDeVueloAeronave(200)\n",
    "espacio_aereo_venezuela.nivelDeVueloAeronave(190)\n",
    "\n",
    "print(espacio_aereo_colombia.nivelDeVueloAeronave(200))\n",
    "print(espacio_aereo_venezuela.nivelDeVueloAeronave(190))\n",
    "\n",
    "\n",
    "\n",
    "\n",
    "\n",
    "\n"
   ]
  }
 ],
 "metadata": {
  "kernelspec": {
   "display_name": "Python 3",
   "language": "python",
   "name": "python3"
  },
  "language_info": {
   "codemirror_mode": {
    "name": "ipython",
    "version": 3
   },
   "file_extension": ".py",
   "mimetype": "text/x-python",
   "name": "python",
   "nbconvert_exporter": "python",
   "pygments_lexer": "ipython3",
   "version": "3.10.13"
  }
 },
 "nbformat": 4,
 "nbformat_minor": 2
}
