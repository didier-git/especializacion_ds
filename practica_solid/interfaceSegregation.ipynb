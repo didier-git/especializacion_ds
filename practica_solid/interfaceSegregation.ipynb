{
 "cells": [
  {
   "cell_type": "markdown",
   "metadata": {},
   "source": [
    "Creamos una interface Animal que luego va ser implementada por diferentes tipos de animales, presentando el problema de que no todos los tipos de animales van a tener algunos comportamientos que estan definidos en la interfaz como veremos a continuacion:"
   ]
  },
  {
   "cell_type": "code",
   "execution_count": 13,
   "metadata": {},
   "outputs": [],
   "source": [
    "from abc import ABC, abstractmethod\n",
    "\n",
    "\n",
    "class Animal (ABC):\n",
    "\n",
    "    @abstractmethod\n",
    "    def respirar()-> None:\n",
    "        pass\n",
    "    @abstractmethod\n",
    "    def caminar()->None:\n",
    "        pass\n",
    "\n",
    "    @abstractmethod\n",
    "    def comer()->None:\n",
    "        pass\n",
    "\n",
    "    @abstractmethod\n",
    "    def ver()->None:\n",
    "        pass\n",
    "    @abstractmethod\n",
    "    def emitirSonido()->None:\n",
    "        pass\n",
    "\n"
   ]
  },
  {
   "cell_type": "code",
   "execution_count": 14,
   "metadata": {},
   "outputs": [],
   "source": [
    "class Perro(Animal):\n",
    "    def __init__(self)-> None:\n",
    "        pass\n",
    "\n",
    "    def respirar(self)-> None:\n",
    "        print('El perro esta respirando')\n",
    "\n",
    "    def caminar(self)->None:\n",
    "         print('El perro esta caminando')\n",
    "\n",
    "\n",
    "    def comer(self)->None:\n",
    "        print('El perro esta comiendo')\n",
    "\n",
    "\n",
    "    def ver(self)->None:\n",
    "        print('El perro esta viendo')\n",
    "\n",
    "    def emitirSonido(self)->None:\n",
    "        print('El perro esta ladrando')\n",
    "\n",
    "\n"
   ]
  },
  {
   "cell_type": "code",
   "execution_count": 17,
   "metadata": {},
   "outputs": [],
   "source": [
    "class Pez(Animal):\n",
    "    def __init__(self)-> None:\n",
    "        pass\n",
    "\n",
    "    def respirar(self)-> None:\n",
    "        print('El pez esta respirando')\n",
    "\n",
    "    def caminar(self)->None:\n",
    "         print('Hasta el momento no puedo caminar al menos que evolucione')\n",
    "         pass\n",
    "\n",
    "\n",
    "    def comer(self)->None:\n",
    "        print('El pez esta comiendo')\n",
    "\n",
    "\n",
    "    def ver(self)->None:\n",
    "        print('El pez esta viendo')\n",
    "\n",
    "    def emitirSonido(self)->None:\n",
    "        pass"
   ]
  },
  {
   "cell_type": "code",
   "execution_count": 18,
   "metadata": {},
   "outputs": [
    {
     "name": "stdout",
     "output_type": "stream",
     "text": [
      "El perro esta caminando\n",
      "Hasta el momento no puedo caminar al menos que evolucione\n"
     ]
    }
   ],
   "source": [
    "perro = Perro()\n",
    "pez = Pez()\n",
    "\n",
    "perro.caminar()\n",
    "pez.caminar()"
   ]
  },
  {
   "cell_type": "markdown",
   "metadata": {},
   "source": [
    "Para resolver esto segregamos la interfaz en diferentes interfaces y cada animal implementara las interfaces segregadas de acuerdo al comportamiento que requiera:"
   ]
  }
 ],
 "metadata": {
  "kernelspec": {
   "display_name": "Python 3",
   "language": "python",
   "name": "python3"
  },
  "language_info": {
   "codemirror_mode": {
    "name": "ipython",
    "version": 3
   },
   "file_extension": ".py",
   "mimetype": "text/x-python",
   "name": "python",
   "nbconvert_exporter": "python",
   "pygments_lexer": "ipython3",
   "version": "3.10.13"
  }
 },
 "nbformat": 4,
 "nbformat_minor": 2
}
