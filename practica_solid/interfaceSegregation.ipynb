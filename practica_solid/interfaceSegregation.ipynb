{
 "cells": [
  {
   "cell_type": "markdown",
   "metadata": {},
   "source": [
    "Creamos una interface Animal que luego va ser implementada por diferentes tipos de animales, presentando el problema de que no todos los tipos de animales van a tener algunos comportamientos que estan definidos en la interfaz como veremos a continuacion:"
   ]
  },
  {
   "cell_type": "code",
   "execution_count": 7,
   "metadata": {},
   "outputs": [],
   "source": [
    "from abc import ABC, abstractmethod\n",
    "\n",
    "\n",
    "class Animal (ABC):\n",
    "\n",
    "    @abstractmethod\n",
    "    def respirar()-> None:\n",
    "        pass\n",
    "    @abstractmethod\n",
    "    def caminar()->None:\n",
    "        pass\n",
    "\n",
    "    @abstractmethod\n",
    "    def comer()->None:\n",
    "        pass\n",
    "\n",
    "    @abstractmethod\n",
    "    def ver()->None:\n",
    "        pass\n",
    "    @abstractmethod\n",
    "    def emitirSonido()->None:\n",
    "        pass\n",
    "\n"
   ]
  },
  {
   "cell_type": "code",
   "execution_count": 8,
   "metadata": {},
   "outputs": [],
   "source": [
    "class Perro(Animal):\n",
    "    def __init__(self)-> None:\n",
    "        pass\n",
    "\n",
    "    def respirar(self)-> None:\n",
    "        print('El perro esta respirando')\n",
    "\n",
    "    def caminar(self)->None:\n",
    "         print('El perro esta caminando')\n",
    "\n",
    "\n",
    "    def comer(self)->None:\n",
    "        print('El perro esta comiendo')\n",
    "\n",
    "\n",
    "    def ver(self)->None:\n",
    "        print('El perro esta viendo')\n",
    "\n",
    "    def emitirSonido(self)->None:\n",
    "        print('El perro esta ladrando')\n",
    "\n",
    "\n"
   ]
  },
  {
   "cell_type": "code",
   "execution_count": 9,
   "metadata": {},
   "outputs": [],
   "source": [
    "class Pez(Animal):\n",
    "    def __init__(self)-> None:\n",
    "        pass\n",
    "\n",
    "    def respirar(self)-> None:\n",
    "        print('El pez esta respirando')\n",
    "\n",
    "    def caminar(self)->None:\n",
    "         print('Hasta el momento no puedo caminar al menos que evolucione')\n",
    "         pass\n",
    "\n",
    "\n",
    "    def comer(self)->None:\n",
    "        print('El pez esta comiendo')\n",
    "\n",
    "\n",
    "    def ver(self)->None:\n",
    "        print('El pez esta viendo')\n",
    "\n",
    "    def emitirSonido(self)->None:\n",
    "        pass"
   ]
  },
  {
   "cell_type": "code",
   "execution_count": 10,
   "metadata": {},
   "outputs": [
    {
     "name": "stdout",
     "output_type": "stream",
     "text": [
      "El perro esta caminando\n",
      "Hasta el momento no puedo caminar al menos que evolucione\n"
     ]
    }
   ],
   "source": [
    "perro = Perro()\n",
    "pez = Pez()\n",
    "\n",
    "perro.caminar()\n",
    "pez.caminar()"
   ]
  },
  {
   "cell_type": "markdown",
   "metadata": {},
   "source": [
    "Para resolver esto segregamos la interfaz en diferentes interfaces y cada animal implementara las interfaces segregadas de acuerdo al comportamiento que requiera:"
   ]
  },
  {
   "cell_type": "code",
   "execution_count": 11,
   "metadata": {},
   "outputs": [],
   "source": [
    "\n",
    "from abc import ABC, abstractmethod\n",
    "\n",
    "class BehaviorCaminar(ABC):\n",
    "\n",
    "    @abstractmethod\n",
    "    def caminar()->None:\n",
    "        pass\n",
    "\n",
    "\n",
    "class BehaviorEmitirSonido(ABC):\n",
    "\n",
    "    @abstractmethod\n",
    "    def emitirSonido()->None:\n",
    "     pass\n",
    "\n",
    "\n"
   ]
  },
  {
   "cell_type": "markdown",
   "metadata": {},
   "source": [
    "Ahora la interfaz Animal queda con los comportamientos comunes de un animal y la clase Perro y Pez implentaran los comportamientos a su medida"
   ]
  },
  {
   "cell_type": "code",
   "execution_count": 12,
   "metadata": {},
   "outputs": [],
   "source": [
    "from abc import ABC, abstractmethod\n",
    "\n",
    "\n",
    "class Animal (ABC):\n",
    "\n",
    "    @abstractmethod\n",
    "    def respirar()-> None:\n",
    "        pass\n",
    "\n",
    "    @abstractmethod\n",
    "    def comer()->None:\n",
    "        pass\n",
    "\n",
    "    @abstractmethod\n",
    "    def ver()->None:\n",
    "        pass\n",
    "\n"
   ]
  },
  {
   "cell_type": "code",
   "execution_count": 13,
   "metadata": {},
   "outputs": [],
   "source": [
    "class Pez(Animal):\n",
    "    def __init__(self)-> None:\n",
    "        pass\n",
    "\n",
    "    def respirar(self)-> None:\n",
    "        print('El pez esta respirando')\n",
    "\n",
    "    def comer(self)->None:\n",
    "        print('El pez esta comiendo')\n",
    "\n",
    "\n",
    "    def ver(self)->None:\n",
    "        print('El pez esta viendo')\n"
   ]
  },
  {
   "cell_type": "code",
   "execution_count": 14,
   "metadata": {},
   "outputs": [],
   "source": [
    "class Perro(Animal,BehaviorCaminar, BehaviorEmitirSonido):\n",
    "\n",
    "    def __init__(self)-> None:\n",
    "        pass\n",
    "\n",
    "    def respirar(self)-> None:\n",
    "        print('El perro esta respirando')\n",
    "\n",
    "    def caminar(self)->None:\n",
    "         print('El perro esta caminando')\n",
    "\n",
    "\n",
    "    def comer(self)->None:\n",
    "        print('El perro esta comiendo')\n",
    "\n",
    "\n",
    "    def ver(self)->None:\n",
    "        print('El perro esta viendo')\n",
    "\n",
    "    def emitirSonido(self)->None:\n",
    "        print('El perro esta ladrando')"
   ]
  },
  {
   "cell_type": "code",
   "execution_count": 15,
   "metadata": {},
   "outputs": [
    {
     "name": "stdout",
     "output_type": "stream",
     "text": [
      "El perro esta caminando\n",
      "El pez esta respirando\n"
     ]
    }
   ],
   "source": [
    "perro = Perro()\n",
    "pez = Pez()\n",
    "\n",
    "perro.caminar()\n",
    "perro.respirar()\n",
    "perro.emitirSonido()\n",
    "\n",
    "\n",
    "pez.respirar()\n",
    "pez.ver()\n",
    "pez.comer()"
   ]
  }
 ],
 "metadata": {
  "kernelspec": {
   "display_name": "Python 3",
   "language": "python",
   "name": "python3"
  },
  "language_info": {
   "codemirror_mode": {
    "name": "ipython",
    "version": 3
   },
   "file_extension": ".py",
   "mimetype": "text/x-python",
   "name": "python",
   "nbconvert_exporter": "python",
   "pygments_lexer": "ipython3",
   "version": "3.10.13"
  }
 },
 "nbformat": 4,
 "nbformat_minor": 2
}
