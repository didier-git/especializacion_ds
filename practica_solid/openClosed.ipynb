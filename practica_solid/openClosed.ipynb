{
 "cells": [
  {
   "cell_type": "markdown",
   "metadata": {},
   "source": [
    "Supongamos que tenemos un app de juego para resolver retos que le asigna puntos a un jugador dependiendo la complejidad del reto que resuelva. Entonces creamos una clase llamada Puntuacion , con un metodo calcularPuntuacionAdicional() y la siguiente estructura:"
   ]
  },
  {
   "cell_type": "code",
   "execution_count": 2,
   "metadata": {},
   "outputs": [],
   "source": [
    "class Puntuacion :\n",
    "\n",
    "    def __init__(self, nivel_complejidad:str,porcentaje_add:float, puntuacion_actual:int, cantidad_retos_ganados:int)-> None:\n",
    "        self.nivel_complejidad = nivel_complejidad\n",
    "        self.porcentaje_add = porcentaje_add\n",
    "        self.puntuacion_actual = puntuacion_actual\n",
    "        self.cantidad_retos_ganados = cantidad_retos_ganados\n",
    "\n",
    "    def getPuntuacionActual(self)-> int:\n",
    "        return self.puntuacion_actual\n",
    "\n",
    "    def calcularPuntuacionAdicional(self)-> None:\n",
    "        if(self.nivel_complejidad == 'Basico'):\n",
    "           self.puntuacion_actual = self.puntuacion_actual + self.getPuntuacionActual() * (self.porcentaje_add/100)\n",
    "        elif(self.nivel_complejidad == 'Medio'):\n",
    "           self.puntuacion_actual = self.puntuacion_actual + self.getPuntuacionActual() * (2* (self.porcentaje_add/100))\n",
    "        elif (self.nivel_complejidad == 'Dificil'):\n",
    "           self.puntuacion_actual = self.puntuacion_actual + self.getPuntuacionActual() * (4 * self.porcentaje_add/100)"
   ]
  },
  {
   "cell_type": "markdown",
   "metadata": {},
   "source": [
    "Luego creamos diferentes tipos de instancias de Puntuacion y calculamos la puntuacion que se le va a asignar al jugador de acuerdo al reto que logra resolver:"
   ]
  },
  {
   "cell_type": "code",
   "execution_count": 3,
   "metadata": {},
   "outputs": [
    {
     "name": "stdout",
     "output_type": "stream",
     "text": [
      "Esta es la puntuación que se le dará por resolver un reto de nivel de complejidad BASICO 1100.0 \n",
      "Esta es la puntuación que se le dará por resolver un reto de nivel de complejidad MEDIO 1200.0 \n",
      "Esta es la puntuación que se le dará por resolver un reto de nivel de complejidad DIFICIL 1400.0 \n"
     ]
    }
   ],
   "source": [
    "puntuacionBasico = Puntuacion('Basico',10.0,1000,1)\n",
    "\n",
    "\n",
    "puntuacionMedio = Puntuacion('Medio',10.0,1000,1)\n",
    "\n",
    "puntuacionDificil = Puntuacion('Dificil',10.0,1000,1)\n",
    "\n",
    "puntuacionBasico.calcularPuntuacionAdicional()\n",
    "\n",
    "puntuacionMedio.calcularPuntuacionAdicional()\n",
    "\n",
    "puntuacionDificil.calcularPuntuacionAdicional()\n",
    "\n",
    "print(f'Esta es la puntuación que se le dará por resolver un reto de nivel de complejidad BASICO {puntuacionBasico.puntuacion_actual} ')\n",
    "print(f'Esta es la puntuación que se le dará por resolver un reto de nivel de complejidad MEDIO {puntuacionMedio.puntuacion_actual} ')\n",
    "print(f'Esta es la puntuación que se le dará por resolver un reto de nivel de complejidad DIFICIL {puntuacionDificil.puntuacion_actual} ')\n",
    "\n",
    "\n",
    "\n",
    "\n",
    "\n"
   ]
  },
  {
   "cell_type": "markdown",
   "metadata": {},
   "source": [
    "Utilizando el principio open/closed podemos lograr que la clase puntuacion se cerrada pero abierta para asignar puntos según otros nuevos niveles de complejidad como veremos a continuacion. Entonces empezamos por crear la interface para calcular Puntuación Adicional:\n"
   ]
  },
  {
   "cell_type": "code",
   "execution_count": 4,
   "metadata": {},
   "outputs": [],
   "source": [
    "from abc import ABC, abstractmethod\n",
    "\n",
    "\n",
    "class NivelComplejidad(ABC) :\n",
    "\n",
    "     @abstractmethod\n",
    "     def calcularPuntuacionAdicional(self,puntuacion : Puntuacion)-> int:\n",
    "       pass"
   ]
  },
  {
   "cell_type": "markdown",
   "metadata": {},
   "source": [
    "Luego creamos las clases que van a implementar esta interface que repectivamente serian NivelBasico, NivelMedio, NivelDificil como se verá a continuación:\n"
   ]
  },
  {
   "cell_type": "code",
   "execution_count": 5,
   "metadata": {},
   "outputs": [],
   "source": [
    "class NivelBasico(NivelComplejidad):\n",
    "\n",
    "    def calcularPuntuacionAdicional(self,puntuacion:Puntuacion)-> int:\n",
    "         puntuacion.puntuacion_actual = puntuacion.puntuacion_actual + puntuacion.getPuntuacionActual() * (puntuacion.porcentaje_add/100)\n",
    "\n",
    "class NivelMedio (NivelComplejidad):\n",
    "\n",
    "     def calcularPuntuacionAdicional(self, puntuacion: Puntuacion)-> None:\n",
    "         puntuacion.puntuacion_actual = puntuacion.puntuacion_actual + puntuacion.getPuntuacionActual() * (2* (puntuacion.porcentaje_add/100))\n",
    "\n",
    "class NivelDificil (NivelComplejidad):\n",
    "\n",
    "      def calcularPuntuacionAdicional(self, puntuacion: Puntuacion)-> None:\n",
    "          puntuacion.puntuacion_actual = puntuacion.puntuacion_actual + puntuacion.getPuntuacionActual() * (4 * puntuacion.porcentaje_add/100)\n",
    "\n"
   ]
  },
  {
   "cell_type": "code",
   "execution_count": 6,
   "metadata": {},
   "outputs": [],
   "source": [
    "class Puntuacion :\n",
    "\n",
    "    def __init__(self, nivel_complejidad:NivelComplejidad,porcentaje_add:float, puntuacion_actual:int, cantidad_retos_ganados:int)-> None:\n",
    "        self.nivel_complejidad : NivelComplejidad = nivel_complejidad\n",
    "        self.porcentaje_add = porcentaje_add\n",
    "        self.puntuacion_actual = puntuacion_actual\n",
    "        self.cantidad_retos_ganados = cantidad_retos_ganados\n",
    "\n",
    "    def getPuntuacionActual(self)-> int:\n",
    "        return self.puntuacion_actual\n",
    "\n",
    "    def calcularPuntuacionAdicional(self)-> None:\n",
    "        self.nivel_complejidad.calcularPuntuacionAdicional(self)\n"
   ]
  },
  {
   "cell_type": "code",
   "execution_count": 11,
   "metadata": {},
   "outputs": [
    {
     "name": "stdout",
     "output_type": "stream",
     "text": [
      "Esta es la puntuación que se le dará por resolver un reto de nivel de complejidad BASICO 1331.0 \n",
      "Esta es la puntuación que se le dará por resolver un reto de nivel de complejidad MEDIO 1728.0 \n",
      "Esta es la puntuación que se le dará por resolver un reto de nivel de complejidad DIFICIL 1400.0 \n"
     ]
    }
   ],
   "source": [
    "puntuacioBasico = Puntuacion(nivel_complejidad = NivelBasico(),porcentaje_add=10.0,puntuacion_actual=1000,cantidad_retos_ganados=3)\n",
    "\n",
    "puntuacioMedio = Puntuacion(nivel_complejidad = NivelMedio(),porcentaje_add=10.0,puntuacion_actual=1000,cantidad_retos_ganados=2)\n",
    "\n",
    "puntuacioDificil = Puntuacion(nivel_complejidad = NivelDificil(),porcentaje_add=10.0,puntuacion_actual=1000,cantidad_retos_ganados=2)\n",
    "\n",
    "\n",
    "puntuacionBasico.calcularPuntuacionAdicional()\n",
    "\n",
    "puntuacionMedio.calcularPuntuacionAdicional()\n",
    "\n",
    "puntuacioDificil.calcularPuntuacionAdicional()\n",
    "\n",
    "print(f'Esta es la puntuación que se le dará por resolver un reto de nivel de complejidad BASICO {puntuacionBasico.puntuacion_actual} ')\n",
    "print(f'Esta es la puntuación que se le dará por resolver un reto de nivel de complejidad MEDIO {puntuacionMedio.puntuacion_actual} ')\n",
    "print(f'Esta es la puntuación que se le dará por resolver un reto de nivel de complejidad DIFICIL {puntuacionDificil.puntuacion_actual} ')"
   ]
  },
  {
   "cell_type": "markdown",
   "metadata": {},
   "source": []
  }
 ],
 "metadata": {
  "kernelspec": {
   "display_name": "Python 3",
   "language": "python",
   "name": "python3"
  },
  "language_info": {
   "codemirror_mode": {
    "name": "ipython",
    "version": 3
   },
   "file_extension": ".py",
   "mimetype": "text/x-python",
   "name": "python",
   "nbconvert_exporter": "python",
   "pygments_lexer": "ipython3",
   "version": "3.10.13"
  }
 },
 "nbformat": 4,
 "nbformat_minor": 2
}
