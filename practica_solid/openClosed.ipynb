{
 "cells": [
  {
   "cell_type": "markdown",
   "metadata": {},
   "source": [
    "Supongamos que tenemos un app de juego para resolver retos que le asigna puntos a un jugador dependiendo del tipo de reto que resuelva. Entonces creamos una clase llamada Puntuacion , con un metodo asignarPuntuacion() y la siguiente estructura:"
   ]
  },
  {
   "cell_type": "code",
   "execution_count": 59,
   "metadata": {},
   "outputs": [],
   "source": [
    "class Puntuacion :\n",
    "\n",
    "    def __init__(self, nivel_complejidad:str,porcentaje_add:float, puntuacion_actual:int, cantidad_retos_ganados:int)-> None:\n",
    "        self.nivel_complejidad = nivel_complejidad\n",
    "        self.porcentaje_add = porcentaje_add\n",
    "        self.puntuacion_actual = puntuacion_actual\n",
    "        self.cantidad_retos_ganados = cantidad_retos_ganados\n",
    "\n",
    "    def getPuntuacionActual(self)-> int:\n",
    "        return self.puntuacion_actual\n",
    "\n",
    "    def calcularPuntuacionAdicional(self)-> None:\n",
    "        if(self.nivel_complejidad == 'Basico'):\n",
    "           self.puntuacion_actual = self.puntuacion_actual + self.getPuntuacionActual() * (self.porcentaje_add/100)\n",
    "        elif(self.nivel_complejidad == 'Medio'):\n",
    "           self.puntuacion_actual = self.puntuacion_actual + self.getPuntuacionActual() * (2* (self.porcentaje_add/100))\n",
    "        elif (self.nivel_complejidad == 'Dificil'):\n",
    "           self.puntuacion_actual = self.puntuacion_actual + self.getPuntuacionActual() * (4 * self.porcentaje_add/100)"
   ]
  },
  {
   "cell_type": "markdown",
   "metadata": {},
   "source": [
    "Luego creamos una instancia de Puntuacion y calculamos la puntuacion que se le va a asignar"
   ]
  },
  {
   "cell_type": "code",
   "execution_count": 60,
   "metadata": {},
   "outputs": [
    {
     "data": {
      "text/plain": [
       "1200.0"
      ]
     },
     "execution_count": 60,
     "metadata": {},
     "output_type": "execute_result"
    }
   ],
   "source": [
    "puntuacion = Puntuacion('Medio',10.0,1000,1)\n",
    "\n",
    "puntuacion.calcularPuntuacionAdicional()\n",
    "\n",
    "puntuacion.puntuacion_actual\n",
    "\n",
    "\n",
    "\n"
   ]
  },
  {
   "cell_type": "markdown",
   "metadata": {},
   "source": [
    "Utilizando el principio open/closed para lograr que la clase puntuacion se cerrada pero abierta para asignar puntos según otros nuevos niveles de complejidad como veremos a continuacion. Entonces empezamos por crear la clase la interface para calcular Puntuación Adicional:\n"
   ]
  },
  {
   "cell_type": "code",
   "execution_count": 61,
   "metadata": {},
   "outputs": [],
   "source": [
    "from abc import ABC, abstractmethod\n",
    "\n",
    "\n",
    "class NivelComplejidad(ABC) :\n",
    "\n",
    "     @abstractmethod\n",
    "     def calcularPuntuacionAdicional(self,puntuacion : Puntuacion)-> int:\n",
    "       pass"
   ]
  },
  {
   "cell_type": "markdown",
   "metadata": {},
   "source": [
    "Luego creamos las clases que van a implementar esta interface que repectivamente serian NivelBasico, NivelMedio, NivelDificil como se verá a continuación:\n"
   ]
  },
  {
   "cell_type": "code",
   "execution_count": 62,
   "metadata": {},
   "outputs": [],
   "source": [
    "class NivelBasico(NivelComplejidad):\n",
    "\n",
    "    def calcularPuntuacionAdicional(self,puntuacion:Puntuacion)-> int:\n",
    "         puntuacion.puntuacion_actual = puntuacion.puntuacion_actual + puntuacion.getPuntuacionActual() * (puntuacion.porcentaje_add/100)\n",
    "\n",
    "class NivelMedio (NivelComplejidad):\n",
    "\n",
    "     def calcularPuntuacionAdicional(self, puntuacion: Puntuacion)-> None:\n",
    "         puntuacion.puntuacion_actual = puntuacion.puntuacion_actual + puntuacion.getPuntuacionActual() * (2* (puntuacion.porcentaje_add/100))\n",
    "\n",
    "class NivelDificil (NivelComplejidad):\n",
    "\n",
    "      def calcularPuntuacionAdicional(self, puntuacion: Puntuacion)-> None:\n",
    "          puntuacion.puntuacion_actual = puntuacion.puntuacion_actual + puntuacion.getPuntuacionActual() * (4 * puntuacion.porcentaje_add/100)\n",
    "\n"
   ]
  },
  {
   "cell_type": "code",
   "execution_count": 63,
   "metadata": {},
   "outputs": [],
   "source": [
    "class Puntuacion :\n",
    "\n",
    "    def __init__(self, nivel_complejidad:NivelComplejidad,porcentaje_add:float, puntuacion_actual:int, cantidad_retos_ganados:int)-> None:\n",
    "        self.nivel_complejidad : NivelComplejidad = nivel_complejidad\n",
    "        self.porcentaje_add = porcentaje_add\n",
    "        self.puntuacion_actual = puntuacion_actual\n",
    "        self.cantidad_retos_ganados = cantidad_retos_ganados\n",
    "\n",
    "    def getPuntuacionActual(self)-> int:\n",
    "        return self.puntuacion_actual\n",
    "\n",
    "    def calcularPuntuacionAdicional(self)-> None:\n",
    "        self.nivel_complejidad.calcularPuntuacionAdicional(self)\n"
   ]
  },
  {
   "cell_type": "code",
   "execution_count": 65,
   "metadata": {},
   "outputs": [
    {
     "data": {
      "text/plain": [
       "1200.0"
      ]
     },
     "execution_count": 65,
     "metadata": {},
     "output_type": "execute_result"
    }
   ],
   "source": [
    "puntuacion = Puntuacion(nivel_complejidad = NivelMedio(),porcentaje_add=10.0,puntuacion_actual=1000,cantidad_retos_ganados=2)\n",
    "\n",
    "puntuacion.calcularPuntuacionAdicional()\n",
    "\n",
    "puntuacion.getPuntuacionActual()"
   ]
  }
 ],
 "metadata": {
  "kernelspec": {
   "display_name": "Python 3",
   "language": "python",
   "name": "python3"
  },
  "language_info": {
   "codemirror_mode": {
    "name": "ipython",
    "version": 3
   },
   "file_extension": ".py",
   "mimetype": "text/x-python",
   "name": "python",
   "nbconvert_exporter": "python",
   "pygments_lexer": "ipython3",
   "version": "3.10.13"
  }
 },
 "nbformat": 4,
 "nbformat_minor": 2
}
