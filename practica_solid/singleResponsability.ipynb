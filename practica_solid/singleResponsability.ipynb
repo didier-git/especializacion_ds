{
 "cells": [
  {
   "cell_type": "markdown",
   "metadata": {},
   "source": [
    "Creamos una clase estudiante que tiene muchas responbilidades, tales como matricular asignatura y generar codigo de inscripcion"
   ]
  },
  {
   "cell_type": "code",
   "execution_count": 5,
   "metadata": {},
   "outputs": [],
   "source": [
    "class Estudiante :\n",
    "    def __init__(self, name:str, code:str,grade:str, ) -> None:\n",
    "        self.name = name\n",
    "        self.code = code\n",
    "        self.grade = grade\n",
    "\n",
    "    def showInformationEstudent(self)->str:\n",
    "        datos = self.name + self.code + self.grade\n",
    "        return datos\n",
    "    def matricularAsignatura(self,asignatura:str)->str:\n",
    "       matricula = f'El estudiante fue inscrito correctamente su matricula es [CODIGO:{self.code}, ASIGNATURA : {asignatura}]'\n",
    "       return matricula\n"
   ]
  },
  {
   "cell_type": "markdown",
   "metadata": {},
   "source": [
    "Creamos una instancia del estudiante para que se matricule en una asignatura"
   ]
  },
  {
   "cell_type": "code",
   "execution_count": 6,
   "metadata": {},
   "outputs": [
    {
     "name": "stdout",
     "output_type": "stream",
     "text": [
      "El estudiante fue inscrito correctamente su matricula es [CODIGO:2024188007, ASIGNATURA : Diseño orientado a objetos y patrones de diseño]\n"
     ]
    }
   ],
   "source": [
    "estudiante = Estudiante(\"Didier trujillo hoyos\",\"2024188007\",\"Profesional\")\n",
    "\n",
    "\n",
    "\n",
    "print(f'{estudiante.matricularAsignatura(\"Diseño orientado a objetos y patrones de diseño\")}')"
   ]
  },
  {
   "cell_type": "markdown",
   "metadata": {},
   "source": [
    "Para resolver el problema , creamos una clase Matriculas que va a ser la encargado de matricular el estudiante en una asignatura, quitandole la responsabilidad a la clase de estudiante de matricularse y traslandola a la clase Matricula\n"
   ]
  },
  {
   "cell_type": "code",
   "execution_count": 7,
   "metadata": {},
   "outputs": [],
   "source": [
    "class Matricula :\n",
    "    def __init__(self, estudiante : Estudiante) -> None:\n",
    "        self.estudiante = estudiante\n",
    "\n",
    "\n",
    "    def matricularAsignatura(self,asignatura : str )-> str:\n",
    "\n",
    "       matricula = f'El estudiante fue inscrito correctamente su matricula es [CODIGO:{self.estudiante.code}, ASIGNATURA : {asignatura}]'\n",
    "       return matricula\n"
   ]
  },
  {
   "cell_type": "markdown",
   "metadata": {},
   "source": [
    "Creamos una instancia de estudiante y una de Matricula para realizar la matricula de un estudiante en una asignatura"
   ]
  },
  {
   "cell_type": "code",
   "execution_count": 8,
   "metadata": {},
   "outputs": [
    {
     "data": {
      "text/plain": [
       "'El estudiante fue inscrito correctamente su matricula es [CODIGO:2024188007, ASIGNATURA : Diseño orientado a objetos y patrones de diseño]'"
      ]
     },
     "execution_count": 8,
     "metadata": {},
     "output_type": "execute_result"
    }
   ],
   "source": [
    "estudiante = Estudiante(\"Didier trujillo hoyos\",\"2024188007\",\"Profesinal\")\n",
    "sistemaMatriculas = Matricula(estudiante)\n",
    "sistemaMatriculas.matricularAsignatura(\"Diseño orientado a objetos y patrones de diseño\")"
   ]
  }
 ],
 "metadata": {
  "kernelspec": {
   "display_name": "Python 3",
   "language": "python",
   "name": "python3"
  },
  "language_info": {
   "codemirror_mode": {
    "name": "ipython",
    "version": 3
   },
   "file_extension": ".py",
   "mimetype": "text/x-python",
   "name": "python",
   "nbconvert_exporter": "python",
   "pygments_lexer": "ipython3",
   "version": "3.10.13"
  }
 },
 "nbformat": 4,
 "nbformat_minor": 2
}
