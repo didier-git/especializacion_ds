{
 "cells": [
  {
   "cell_type": "markdown",
   "metadata": {},
   "source": [
    "Para la aplicacion de este principio tomaremos como ejemplo el caso de un Computador que depende de una unidad de almacenamiento como lo es una disco duro mecanico y lo representaremos a continuacion:"
   ]
  },
  {
   "cell_type": "code",
   "execution_count": 22,
   "metadata": {},
   "outputs": [],
   "source": [
    "class DiscoDuro :\n",
    "\n",
    "    def __init__(self) -> None:\n",
    "        self.capacidad = '1G'\n",
    "        self.informacion_actual : list = []\n",
    "        pass\n",
    "\n",
    "    def guardarInformacion(self,informacion:str):\n",
    "        self.informacion_actual.append(informacion)\n",
    "\n",
    "\n",
    "\n"
   ]
  },
  {
   "cell_type": "code",
   "execution_count": 23,
   "metadata": {},
   "outputs": [],
   "source": [
    "class Computador :\n",
    "\n",
    "    def __init__(self, disco_duro : DiscoDuro) -> None:\n",
    "        self.disco_duro = disco_duro\n",
    "\n",
    "    def guardarInformacion(self,informacion : str):\n",
    "        self.disco_duro.guardarInformacion(informacion=informacion)\n",
    "\n"
   ]
  },
  {
   "cell_type": "code",
   "execution_count": 24,
   "metadata": {},
   "outputs": [
    {
     "name": "stdout",
     "output_type": "stream",
     "text": [
      "Esta es la informacion actual:\n",
      "archivo\n"
     ]
    }
   ],
   "source": [
    "disco_duro = DiscoDuro()\n",
    "computador = Computador(disco_duro=disco_duro)\n",
    "computador.disco_duro.guardarInformacion('archivo')\n",
    "\n",
    "\n",
    "print(f'Esta es la informacion actual:')\n",
    "for informacion in computador.disco_duro.informacion_actual:\n",
    "    print(informacion)\n"
   ]
  },
  {
   "cell_type": "markdown",
   "metadata": {},
   "source": [
    "Para invertir esta dependencia que tiene el computador del disco duro vamos a crear abstracion llamada UnidadDeAlmacenamiento, la cual implementaran las clases DiscoDuro y DiscoEstadoSolido:"
   ]
  },
  {
   "cell_type": "code",
   "execution_count": 33,
   "metadata": {},
   "outputs": [],
   "source": [
    "from abc import ABC, abstractmethod\n",
    "\n",
    "class UnidadDeAlmacenamiento (ABC):\n",
    "\n",
    "    @abstractmethod\n",
    "    def GuardarInformacion(informacion: str):\n",
    "        pass\n",
    "\n",
    "\n",
    "class DiscoDuro(UnidadDeAlmacenamiento):\n",
    "\n",
    "    def __init__(self) -> None:\n",
    "        self.informacion_actual : list = []\n",
    "        self.capacidad = '1G'\n",
    "\n",
    "    def GuardarInformacion(self,informacion: str):\n",
    "       self.informacion_actual.append(informacion)\n",
    "\n",
    "\n",
    "class DiscoEstadoSolido (UnidadDeAlmacenamiento):\n",
    "      def __init__(self) -> None:\n",
    "          self.informacion_actual : list = []\n",
    "          self.capacidad = '1G'\n",
    "\n",
    "      def GuardarInformacion(self,informacion: str):\n",
    "          self.informacion_actual.append(informacion)\n",
    "\n"
   ]
  },
  {
   "cell_type": "code",
   "execution_count": 34,
   "metadata": {},
   "outputs": [],
   "source": [
    "class Computador :\n",
    "\n",
    "    def __init__(self, unidad : UnidadDeAlmacenamiento) -> None:\n",
    "        self.unidad = unidad\n",
    "\n",
    "    def GuardarInformacion(self,informacion : str):\n",
    "        self.unidad.GuardarInformacion(informacion=informacion)\n"
   ]
  },
  {
   "cell_type": "markdown",
   "metadata": {},
   "source": [
    "ahora una instancia de una clase Computador puede almacenar la informacion que requiere independiente de la unidad de almacenamiento que tenga"
   ]
  },
  {
   "cell_type": "code",
   "execution_count": 35,
   "metadata": {},
   "outputs": [],
   "source": [
    "disco_duro = DiscoDuro()\n",
    "disco_estado_solido = DiscoEstadoSolido()\n",
    "\n",
    "computador = Computador(disco_duro)\n",
    "computador2 = Computador(disco_estado_solido)\n",
    "computador.GuardarInformacion('datos')\n",
    "computador.GuardarInformacion('Archivo')\n",
    "\n",
    "\n"
   ]
  }
 ],
 "metadata": {
  "kernelspec": {
   "display_name": "Python 3",
   "language": "python",
   "name": "python3"
  },
  "language_info": {
   "codemirror_mode": {
    "name": "ipython",
    "version": 3
   },
   "file_extension": ".py",
   "mimetype": "text/x-python",
   "name": "python",
   "nbconvert_exporter": "python",
   "pygments_lexer": "ipython3",
   "version": "3.10.13"
  }
 },
 "nbformat": 4,
 "nbformat_minor": 2
}
